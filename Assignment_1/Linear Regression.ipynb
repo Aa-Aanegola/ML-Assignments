{
 "cells": [
  {
   "cell_type": "code",
   "execution_count": 69,
   "metadata": {},
   "outputs": [],
   "source": [
    "# Imports\n",
    "import pickle\n",
    "import pandas as pd\n",
    "from sklearn.linear_model import LinearRegression\n",
    "import numpy as np\n",
    "import matplotlib.pyplot as plt"
   ]
  },
  {
   "cell_type": "code",
   "execution_count": 70,
   "metadata": {},
   "outputs": [],
   "source": [
    "# Reading data from the file\n",
    "PICKLE_FILE = open('data.pkl', 'rb')\n",
    "data = pickle.load(PICKLE_FILE)"
   ]
  },
  {
   "cell_type": "code",
   "execution_count": 71,
   "metadata": {},
   "outputs": [],
   "source": [
    "# Splitting the dataset into train and test, and then test into 10 partitions\n",
    "np.random.shuffle(data)\n",
    "training_temp, test = data[:4500, :], data[4500:, :]\n",
    "test = np.sort(test, axis = 0)\n",
    "training = []\n",
    "for i in range(10):\n",
    "    training.append(data[450*i : 450*(i+1)])"
   ]
  },
  {
   "cell_type": "code",
   "execution_count": 72,
   "metadata": {
    "scrolled": true
   },
   "outputs": [],
   "source": [
    "# Training the linear models\n",
    "linreg_models = []\n",
    "for i in range(10):\n",
    "    regmodel = LinearRegression().fit(np.split(training[i], 2, axis = 1)[0], np.split(training[i],2, axis = 1)[1])\n",
    "    linreg_models.append(regmodel)\n",
    "\n",
    "# Obtain predictions for each model with the test set\n",
    "pred = []\n",
    "for i in range(10):\n",
    "    pred.append(linreg_models[i].predict(np.split(test, 2, axis = 1)[0]))"
   ]
  },
  {
   "cell_type": "code",
   "execution_count": 74,
   "metadata": {},
   "outputs": [
    {
     "data": {
      "text/plain": [
       "[<matplotlib.lines.Line2D at 0x7f3983b9ee50>]"
      ]
     },
     "execution_count": 74,
     "metadata": {},
     "output_type": "execute_result"
    },
    {
     "data": {
      "image/png": "[encoded data removed]",
      "text/plain": [
       "<Figure size 432x288 with 1 Axes>"
      ]
     },
     "metadata": {
      "needs_background": "light"
     },
     "output_type": "display_data"
    }
   ],
   "source": [
    "plt.plot(np.split(test, 2, axis=1)[0], np.split(test, 2, axis=1)[1])\n",
    "plt.plot(np.split(test, 2, axis=1)[0], pred[0])\n",
    "plt.plot(np.split(test, 2, axis=1)[0], pred[1])\n",
    "plt.plot(np.split(test, 2, axis=1)[0], pred[2])\n"
   ]
  },
  {
   "cell_type": "code",
   "execution_count": 83,
   "metadata": {
    "scrolled": true
   },
   "outputs": [
    {
     "name": "stdout",
     "output_type": "stream",
     "text": [
      "14.884175254234721 20.66581343139815\n",
      "14.660665039861767 21.88055761054252\n",
      "15.084880921226597 19.844159096259215\n",
      "14.560294007674656 22.607120152509196\n",
      "14.920251487134907 21.51997146553005\n",
      "14.65960526850559 22.070579084095822\n",
      "14.197514472463281 25.708192391477844\n",
      "14.82511099574311 21.261396988484435\n",
      "14.956661111539555 20.62393268698506\n",
      "14.214629653770213 25.23781153060824\n"
     ]
    }
   ],
   "source": [
    "squared_bias = []\n",
    "variance = []\n",
    "absolute_squared_error = []\n",
    "\n",
    "for i in range(10):\n",
    "    bias = np.mean((np.split(test, 2, axis = 1)[1] - pred[i])**2)\n",
    "    squared_bias.append(bias**2)\n",
    "    expected_pred = np.mean(pred[i])\n",
    "    var = np.mean((pred[i] - expected_pred)**2)\n",
    "    variance.append(var)\n",
    "    print(bias, var)"
   ]
  }
 ],
 "metadata": {
  "kernelspec": {
   "display_name": "ML",
   "language": "python",
   "name": "ml"
  },
  "language_info": {
   "codemirror_mode": {
    "name": "ipython",
    "version": 3
   },
   "file_extension": ".py",
   "mimetype": "text/x-python",
   "name": "python",
   "nbconvert_exporter": "python",
   "pygments_lexer": "ipython3",
   "version": "3.7.7"
  }
 },
 "nbformat": 4,
 "nbformat_minor": 4
}
