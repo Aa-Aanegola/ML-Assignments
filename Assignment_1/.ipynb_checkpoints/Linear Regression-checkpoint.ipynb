{
 "cells": [
  {
   "cell_type": "code",
   "execution_count": 18,
   "metadata": {},
   "outputs": [],
   "source": [
    "# Imports\n",
    "import pickle\n",
    "import pandas as pd\n",
    "import pprint\n",
    "import os\n",
    "import sklearn\n",
    "import numpy"
   ]
  },
  {
   "cell_type": "code",
   "execution_count": 17,
   "metadata": {},
   "outputs": [
    {
     "name": "stdout",
     "output_type": "stream",
     "text": [
      "(5000, 2)\n"
     ]
    }
   ],
   "source": [
    "# Reading data from the file\n",
    "PICKLE_FILE = open('data.pkl', 'rb')\n",
    "data = pickle.load(PICKLE_FILE)\n",
    "print(data.shape)"
   ]
  },
  {
   "cell_type": "code",
   "execution_count": 25,
   "metadata": {},
   "outputs": [
    {
     "name": "stdout",
     "output_type": "stream",
     "text": [
      "(4500, 2) (500, 2)\n",
      "(450, 2)\n",
      "(450, 2)\n",
      "(450, 2)\n",
      "(450, 2)\n",
      "(450, 2)\n",
      "(450, 2)\n",
      "(450, 2)\n",
      "(450, 2)\n",
      "(450, 2)\n",
      "(450, 2)\n"
     ]
    }
   ],
   "source": [
    "# Splitting the dataset into train and test, and then test into 10 partitions\n",
    "numpy.random.shuffle(data)\n",
    "training_temp, test = data[:4500, :], data[4500:, :]\n",
    "\n",
    "training = []\n",
    "for i in range(10):\n",
    "    training.append(data[450*i:450*(i+1)])"
   ]
  },
  {
   "cell_type": "code",
   "execution_count": null,
   "metadata": {},
   "outputs": [],
   "source": []
  }
 ],
 "metadata": {
  "kernelspec": {
   "display_name": "ML",
   "language": "python",
   "name": "ml"
  },
  "language_info": {
   "codemirror_mode": {
    "name": "ipython",
    "version": 3
   },
   "file_extension": ".py",
   "mimetype": "text/x-python",
   "name": "python",
   "nbconvert_exporter": "python",
   "pygments_lexer": "ipython3",
   "version": "3.7.7"
  }
 },
 "nbformat": 4,
 "nbformat_minor": 4
}
